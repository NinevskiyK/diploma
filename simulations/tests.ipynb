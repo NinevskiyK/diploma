{
 "cells": [
  {
   "cell_type": "code",
   "execution_count": 2,
   "metadata": {},
   "outputs": [
    {
     "name": "stdout",
     "output_type": "stream",
     "text": [
      "[ 8.27543104 13.0229116 ]\n"
     ]
    }
   ],
   "source": [
    "import numpy as np\n",
    "\n",
    "def generate_custom_distribution():\n",
    "    # Параметры распределения\n",
    "    mean = 5\n",
    "    q75 = 8\n",
    "    q95 = 15\n",
    "    max_value = 30\n",
    "\n",
    "    # Генерация случайных данных с соответствующими характеристиками\n",
    "    data = np.random.normal(loc=mean, scale=5, size=1000)  # Генерация нормального распределения\n",
    "    data = np.clip(data, 0, max_value)  # Ограничение значений сверху максимальным значением\n",
    "\n",
    "    # Убедимся, что квантили соответствуют данным\n",
    "    data = np.percentile(data, [75, 95])  # Найдем 75-й и 95-й квантили\n",
    "\n",
    "    return data\n",
    "\n",
    "print(generate_custom_distribution())\n"
   ]
  },
  {
   "cell_type": "code",
   "execution_count": 3,
   "metadata": {},
   "outputs": [
    {
     "name": "stdout",
     "output_type": "stream",
     "text": [
      "0\n",
      "10\n",
      "here\n"
     ]
    }
   ],
   "source": [
    "import simpy\n",
    "env = simpy.Environment()\n",
    "\n",
    "def a():\n",
    "    yield env.timeout(50)\n",
    "    print('here')\n",
    "\n",
    "def process():\n",
    "    print(env.now)\n",
    "    yield env.process(a()) | env.timeout(10)\n",
    "    print(env.now)\n",
    "\n",
    "env.process(process())\n",
    "env.run()\n"
   ]
  },
  {
   "cell_type": "code",
   "execution_count": 3,
   "metadata": {},
   "outputs": [],
   "source": [
    "def lol(q):\n",
    "    if q == 5:\n",
    "        return\n",
    "    print(123)\n",
    "    yield 123\n",
    "\n",
    "for i in lol(5):\n",
    "    print(i)"
   ]
  },
  {
   "cell_type": "code",
   "execution_count": 8,
   "metadata": {},
   "outputs": [
    {
     "name": "stdout",
     "output_type": "stream",
     "text": [
      "a 0\n",
      "b 1\n",
      "a 150\n",
      "b 150\n",
      "a 300\n"
     ]
    }
   ],
   "source": [
    "import simpy\n",
    "env = simpy.Environment()\n",
    "resource = simpy.Resource(env)\n",
    "\n",
    "def a(resource):\n",
    "    print('a', env.now)\n",
    "    with resource.request() as req:\n",
    "        yield req\n",
    "        yield env.timeout(150)\n",
    "    print('a', env.now)\n",
    "    with resource.request() as req:\n",
    "        yield req\n",
    "        yield env.timeout(150)\n",
    "    print('a', env.now)\n",
    "\n",
    "def process(resource):\n",
    "    yield env.timeout(1)\n",
    "    with resource.request() as req:\n",
    "        print('b', env.now)\n",
    "        yield req | env.timeout(200)\n",
    "        print('b', env.now)\n",
    "        env.timeout(150)\n",
    "\n",
    "env.process(a(resource))\n",
    "env.process(process(resource))\n",
    "env.run()"
   ]
  },
  {
   "cell_type": "code",
   "execution_count": null,
   "metadata": {},
   "outputs": [],
   "source": []
  }
 ],
 "metadata": {
  "kernelspec": {
   "display_name": "env",
   "language": "python",
   "name": "python3"
  },
  "language_info": {
   "codemirror_mode": {
    "name": "ipython",
    "version": 3
   },
   "file_extension": ".py",
   "mimetype": "text/x-python",
   "name": "python",
   "nbconvert_exporter": "python",
   "pygments_lexer": "ipython3",
   "version": "3.12.1"
  }
 },
 "nbformat": 4,
 "nbformat_minor": 2
}
